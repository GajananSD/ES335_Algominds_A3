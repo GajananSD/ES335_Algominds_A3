{
 "cells": [
  {
   "cell_type": "markdown",
   "metadata": {},
   "source": [
    "# Backpropogation with Gradient Descent #"
   ]
  },
  {
   "cell_type": "markdown",
   "metadata": {},
   "source": [
    "#### Done mathematical calculation for MLP on neural network with 2 inputs, 1 hidden layer with 3 neurons and 1 output ####"
   ]
  },
  {
   "cell_type": "markdown",
   "metadata": {},
   "source": [
    "<img src=\"Calc1.jpg\" alt=\"Image 1\" width=\"400\" height=\"300\">  <img src=\"Calc2.jpg\" alt=\"Image 2\" width=\"415\" height=\"315\">"
   ]
  },
  {
   "cell_type": "markdown",
   "metadata": {},
   "source": [
    "### Code Implementation ###"
   ]
  },
  {
   "cell_type": "code",
   "execution_count": 172,
   "metadata": {
    "id": "efh0Vbd75p02"
   },
   "outputs": [],
   "source": [
    "import numpy as np\n",
    "import pandas as pd"
   ]
  },
  {
   "cell_type": "code",
   "execution_count": 173,
   "metadata": {
    "id": "qsjhE0IG5qy5"
   },
   "outputs": [],
   "source": [
    "df = pd.DataFrame([[0,0,0],[0,1,1],[1,0,1],[1,1,0]], columns=['x1', 'x2', 'y'])"
   ]
  },
  {
   "cell_type": "code",
   "execution_count": 174,
   "metadata": {
    "colab": {
     "base_uri": "https://localhost:8080/",
     "height": 175
    },
    "id": "Z9vKYUso5y3F",
    "outputId": "921e5023-3af8-4552-d541-13371dd8655d"
   },
   "outputs": [
    {
     "data": {
      "text/html": [
       "<div>\n",
       "<style scoped>\n",
       "    .dataframe tbody tr th:only-of-type {\n",
       "        vertical-align: middle;\n",
       "    }\n",
       "\n",
       "    .dataframe tbody tr th {\n",
       "        vertical-align: top;\n",
       "    }\n",
       "\n",
       "    .dataframe thead th {\n",
       "        text-align: right;\n",
       "    }\n",
       "</style>\n",
       "<table border=\"1\" class=\"dataframe\">\n",
       "  <thead>\n",
       "    <tr style=\"text-align: right;\">\n",
       "      <th></th>\n",
       "      <th>x1</th>\n",
       "      <th>x2</th>\n",
       "      <th>y</th>\n",
       "    </tr>\n",
       "  </thead>\n",
       "  <tbody>\n",
       "    <tr>\n",
       "      <th>0</th>\n",
       "      <td>0</td>\n",
       "      <td>0</td>\n",
       "      <td>0</td>\n",
       "    </tr>\n",
       "    <tr>\n",
       "      <th>1</th>\n",
       "      <td>0</td>\n",
       "      <td>1</td>\n",
       "      <td>1</td>\n",
       "    </tr>\n",
       "    <tr>\n",
       "      <th>2</th>\n",
       "      <td>1</td>\n",
       "      <td>0</td>\n",
       "      <td>1</td>\n",
       "    </tr>\n",
       "    <tr>\n",
       "      <th>3</th>\n",
       "      <td>1</td>\n",
       "      <td>1</td>\n",
       "      <td>0</td>\n",
       "    </tr>\n",
       "  </tbody>\n",
       "</table>\n",
       "</div>"
      ],
      "text/plain": [
       "   x1  x2  y\n",
       "0   0   0  0\n",
       "1   0   1  1\n",
       "2   1   0  1\n",
       "3   1   1  0"
      ]
     },
     "execution_count": 174,
     "metadata": {},
     "output_type": "execute_result"
    }
   ],
   "source": [
    "df.head()"
   ]
  },
  {
   "cell_type": "code",
   "execution_count": 175,
   "metadata": {
    "id": "BSAs5N7L5z9f"
   },
   "outputs": [],
   "source": [
    "def initialize_parameters(layer_dims):\n",
    "  np.random.seed(3)\n",
    "  parameters = {}\n",
    "  L = len(layer_dims)\n",
    "  for l in range(1, L):\n",
    "    parameters['W' + str(l)] = np.ones((layer_dims[l-1], layer_dims[l]))*0.1\n",
    "    parameters['b' + str(l)] = np.zeros((layer_dims[l], 1))\n",
    "  return parameters"
   ]
  },
  {
   "cell_type": "code",
   "execution_count": 176,
   "metadata": {},
   "outputs": [],
   "source": [
    "parameters = initialize_parameters([2,3,1])"
   ]
  },
  {
   "cell_type": "code",
   "execution_count": 177,
   "metadata": {
    "id": "VDwatKWP543L"
   },
   "outputs": [],
   "source": [
    "# Utility Functions\n",
    "def sigmoid(Z):\n",
    "  A = 1/(1+np.exp(-Z))\n",
    "  return A"
   ]
  },
  {
   "cell_type": "code",
   "execution_count": 187,
   "metadata": {
    "id": "Q7Pqn3Le6W88"
   },
   "outputs": [],
   "source": [
    "def linear_forward(A_prev, W, b,layer,current_layer):\n",
    "    Z = np.dot(W.T, A_prev) + b\n",
    "    if current_layer == layer:\n",
    "        A = sigmoid(Z)\n",
    "    else:\n",
    "        A = np.maximum(Z, 0) # Relu \n",
    "    return A"
   ]
  },
  {
   "cell_type": "code",
   "execution_count": 183,
   "metadata": {
    "id": "VkUO9wdf6gXj"
   },
   "outputs": [],
   "source": [
    "# L-layer feed forward\n",
    "def L_layer_forward(X, parameters):\n",
    "  A = X\n",
    "  L = len(parameters) // 2                  # number of layers in the neural network\n",
    "  for l in range(1, L+1):\n",
    "    A_prev = A\n",
    "    Wl = parameters['W' + str(l)]\n",
    "    bl = parameters['b' + str(l)]\n",
    "    A = linear_forward(A_prev, Wl, bl,L,l)\n",
    "  return A,A_prev\n"
   ]
  },
  {
   "cell_type": "code",
   "execution_count": 184,
   "metadata": {
    "id": "NKBtskel6jsf"
   },
   "outputs": [],
   "source": [
    "def update_parameters(parameters,y,y_hat,A1,X):\n",
    "    parameters['W2'][0][0] = parameters['W2'][0][0] + (0.05 * (y - y_hat)*A1[0][0])\n",
    "    parameters['W2'][1][0] = parameters['W2'][1][0] + (0.05 * (y - y_hat)*A1[1][0])\n",
    "    parameters['W2'][2][0] = parameters['W2'][2][0] + (0.05 * (y - y_hat)*A1[2][0])\n",
    "    parameters['b2'][0][0] = parameters['b2'][0][0] + (0.05 * (y - y_hat))\n",
    "\n",
    "    if (A1[0][0])>0:\n",
    "        parameters['W1'][0][0] = parameters['W1'][0][0] + (0.05 * (y - y_hat)*parameters['W2'][0][0]*X[0][0])\n",
    "        parameters['W1'][1][0] = parameters['W1'][1][0] + (0.05 * (y - y_hat)*parameters['W2'][0][0]*X[1][0])\n",
    "        parameters['b1'][0][0] = parameters['b1'][0][0] + (0.05 * (y - y_hat)*parameters['W2'][0][0])\n",
    "    if (A1[1][0])>0:\n",
    "        parameters['W1'][0][1] = parameters['W1'][0][1] + (0.05 * (y - y_hat)*parameters['W2'][1][0]*X[0][0])\n",
    "        parameters['W1'][1][1] = parameters['W1'][1][1] + (0.05 * (y - y_hat)*parameters['W2'][1][0]*X[1][0])\n",
    "        parameters['b1'][1][0] = parameters['b1'][1][0] + (0.05 * (y - y_hat)*parameters['W2'][1][0])\n",
    "    if (A1[2][0])>0:\n",
    "        parameters['W1'][0][2] = parameters['W1'][0][2] + (0.05 * (y - y_hat)*parameters['W2'][2][0]*X[0][0])\n",
    "        parameters['W1'][1][2] = parameters['W1'][1][2] + (0.05 * (y - y_hat)*parameters['W2'][2][0]*X[1][0])\n",
    "        parameters['b1'][2][0] = parameters['b1'][2][0] + (0.05 * (y - y_hat)*parameters['W2'][2][0])\n",
    "    "
   ]
  },
  {
   "cell_type": "code",
   "execution_count": 186,
   "metadata": {
    "colab": {
     "base_uri": "https://localhost:8080/"
    },
    "id": "9RTy2Hsy9-M7",
    "outputId": "774328a3-5614-4a66-8dac-425a271319b7"
   },
   "outputs": [
    {
     "data": {
      "text/plain": [
       "{'W1': array([[0.5932228, 0.5932228, 0.5932228],\n",
       "        [0.2282384, 0.2282384, 0.2282384]]),\n",
       " 'b1': array([[0.8127637],\n",
       "        [0.8127637],\n",
       "        [0.8127637]]),\n",
       " 'W2': array([[-0.08307155],\n",
       "        [-0.08307155],\n",
       "        [-0.08307155]]),\n",
       " 'b2': array([[0.74274099]])}"
      ]
     },
     "execution_count": 186,
     "metadata": {},
     "output_type": "execute_result"
    }
   ],
   "source": [
    "# epochs implementation\n",
    "epochs = 50\n",
    "for i in range(epochs):\n",
    "  Loss = []\n",
    "  for j in range(df.shape[0]):\n",
    "    X = df[['x1', 'x2']].values[j].reshape(2,1) # Shape(no of features, no. of training example)\n",
    "    y = df[['y']].values[j][0]\n",
    "    # Parameter initialization\n",
    "    y_hat,A1 = L_layer_forward(X,parameters)\n",
    "    y_hat = y_hat[0][0]\n",
    "    update_parameters(parameters,y,y_hat,A1,X)\n",
    "    Loss.append(-y*np.log(y_hat) - (1-y)*np.log(1-y_hat))\n",
    "  #print('Epoch - ',i+1,'Loss - ',np.array(Loss).mean())\n",
    "parameters"
   ]
  },
  {
   "cell_type": "markdown",
   "metadata": {},
   "source": [
    "![Image 7](7.png)"
   ]
  },
  {
   "cell_type": "code",
   "execution_count": null,
   "metadata": {},
   "outputs": [],
   "source": []
  }
 ],
 "metadata": {
  "colab": {
   "provenance": []
  },
  "kernelspec": {
   "display_name": "Python 3 (ipykernel)",
   "language": "python",
   "name": "python3"
  },
  "language_info": {
   "codemirror_mode": {
    "name": "ipython",
    "version": 3
   },
   "file_extension": ".py",
   "mimetype": "text/x-python",
   "name": "python",
   "nbconvert_exporter": "python",
   "pygments_lexer": "ipython3",
   "version": "3.9.7"
  }
 },
 "nbformat": 4,
 "nbformat_minor": 4
}
